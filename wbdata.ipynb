{
 "cells": [
  {
   "cell_type": "code",
   "execution_count": null,
   "id": "c381d4d3",
   "metadata": {},
   "outputs": [],
   "source": [
    "# worldbank_download.py\n",
    "!pip install world_bank_data\n",
    "import world_bank_data as wb\n",
    "import pandas as pd\n",
    "import time\n",
    " \n",
    "# List of 10 indicators from World Bank\n",
    "indicators = {\n",
    "    'NY.GDP.MKTP.CD': 'gdp_total',                # GDP (current US$)\n",
    "    'NY.GDP.PCAP.CD': 'gdp_per_capita',           # GDP per capita\n",
    "    'SP.POP.TOTL': 'population',                  # Total population\n",
    "    'SP.DYN.LE00.IN': 'life_expectancy',          # Life expectancy at birth\n",
    "    'SP.DYN.CBRT.IN': 'birth_rate',               # Birth rate\n",
    "    'SP.DYN.CDRT.IN': 'death_rate',               # Death rate\n",
    "    'SE.PRM.ENRR': 'primary_school_enrollment',   # Primary school enrollment\n",
    "    'EN.ATM.CO2E.PC': 'co2_per_capita',           # CO2 emissions per capita\n",
    "    'SL.UEM.TOTL.ZS': 'unemployment_rate',        # Unemployment rate (% of labor force)\n",
    "    'GC.XPN.TOTL.GD.ZS': 'gov_expenditure_gdp'    # Government expenditure (% of GDP)\n",
    "}\n",
    " \n",
    "# Time range\n",
    "years = list(range(2015, 2021))\n",
    " \n",
    "# Download and save each dataset\n",
    "for code, name in indicators.items():\n",
    "    try:\n",
    "        print(f\"Fetching {name}...\")\n",
    "        data = wb.get_series(code, id_or_value='id', time=years, simplify_index=True)\n",
    "        data = data.reset_index()\n",
    "        data = data.rename(columns={'country': 'country', 'time': 'year', code: name})\n",
    "       \n",
    "        # Save to CSV\n",
    "        filename = f\"{name}.csv\"\n",
    "        data.to_csv(filename, index=False)\n",
    "        print(f\"Saved {filename}, shape: {data.shape}\")\n",
    "       \n",
    "    except Exception as e:\n",
    "        print(f\"⚠️ Failed to fetch {name}: {e}\")\n",
    "   \n",
    "    # Sleep to avoid API rate limits\n",
    "    time.sleep(1)\n",
    " \n",
    "print(\"✅ All datasets processed.\")"
   ]
  }
 ],
 "metadata": {
  "kernelspec": {
   "display_name": "base",
   "language": "python",
   "name": "python3"
  },
  "language_info": {
   "codemirror_mode": {
    "name": "ipython",
    "version": 3
   },
   "file_extension": ".py",
   "mimetype": "text/x-python",
   "name": "python",
   "nbconvert_exporter": "python",
   "pygments_lexer": "ipython3",
   "version": "3.12.12"
  }
 },
 "nbformat": 4,
 "nbformat_minor": 5
}
