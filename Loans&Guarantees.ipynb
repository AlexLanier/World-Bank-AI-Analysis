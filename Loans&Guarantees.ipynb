{
 "cells": [
  {
   "cell_type": "markdown",
   "id": "19a5782f",
   "metadata": {},
   "source": [
    "# Link to World Bank Dataset Overview\n",
    "https://financesone.worldbank.org/api-explorer?id=DS00975"
   ]
  },
  {
   "cell_type": "code",
   "execution_count": 1,
   "id": "de122192",
   "metadata": {},
   "outputs": [
    {
     "name": "stderr",
     "output_type": "stream",
     "text": [
      "Downloading rows:   1%|          | 10000/1472089 [00:08<14:39, 1663.12rows/s]"
     ]
    },
    {
     "name": "stdout",
     "output_type": "stream",
     "text": [
      "Saved checkpoint at page 10 (10,000 rows)\n"
     ]
    },
    {
     "name": "stderr",
     "output_type": "stream",
     "text": [
      "Downloading rows:   1%|▏         | 20000/1472089 [00:15<13:59, 1729.90rows/s]"
     ]
    },
    {
     "name": "stdout",
     "output_type": "stream",
     "text": [
      "Saved checkpoint at page 20 (20,000 rows)\n"
     ]
    },
    {
     "name": "stderr",
     "output_type": "stream",
     "text": [
      "Downloading rows:   2%|▏         | 30000/1472089 [00:25<37:22, 643.08rows/s] "
     ]
    },
    {
     "name": "stdout",
     "output_type": "stream",
     "text": [
      "Saved checkpoint at page 30 (30,000 rows)\n"
     ]
    },
    {
     "name": "stderr",
     "output_type": "stream",
     "text": [
      "Downloading rows:   3%|▎         | 40000/1472089 [00:33<15:37, 1528.28rows/s]"
     ]
    },
    {
     "name": "stdout",
     "output_type": "stream",
     "text": [
      "Saved checkpoint at page 40 (40,000 rows)\n"
     ]
    },
    {
     "name": "stderr",
     "output_type": "stream",
     "text": [
      "Downloading rows:   3%|▎         | 50000/1472089 [00:43<15:33, 1523.54rows/s]"
     ]
    },
    {
     "name": "stdout",
     "output_type": "stream",
     "text": [
      "Saved checkpoint at page 50 (50,000 rows)\n"
     ]
    },
    {
     "name": "stderr",
     "output_type": "stream",
     "text": [
      "Downloading rows:   4%|▍         | 60000/1472089 [00:55<22:06, 1064.36rows/s]"
     ]
    },
    {
     "name": "stdout",
     "output_type": "stream",
     "text": [
      "Saved checkpoint at page 60 (60,000 rows)\n"
     ]
    },
    {
     "name": "stderr",
     "output_type": "stream",
     "text": [
      "Downloading rows:   5%|▍         | 70000/1472089 [01:04<15:15, 1531.17rows/s]"
     ]
    },
    {
     "name": "stdout",
     "output_type": "stream",
     "text": [
      "Saved checkpoint at page 70 (70,000 rows)\n"
     ]
    },
    {
     "name": "stderr",
     "output_type": "stream",
     "text": [
      "Downloading rows:   5%|▌         | 80000/1472089 [01:15<21:53, 1059.72rows/s]"
     ]
    },
    {
     "name": "stdout",
     "output_type": "stream",
     "text": [
      "Saved checkpoint at page 80 (80,000 rows)\n"
     ]
    },
    {
     "name": "stderr",
     "output_type": "stream",
     "text": [
      "Downloading rows:   6%|▌         | 90000/1472089 [01:28<32:00, 719.51rows/s] "
     ]
    },
    {
     "name": "stdout",
     "output_type": "stream",
     "text": [
      "Saved checkpoint at page 90 (90,000 rows)\n"
     ]
    },
    {
     "name": "stderr",
     "output_type": "stream",
     "text": [
      "Downloading rows:   7%|▋         | 100000/1472089 [01:38<16:47, 1361.77rows/s]"
     ]
    },
    {
     "name": "stdout",
     "output_type": "stream",
     "text": [
      "Saved checkpoint at page 100 (100,000 rows)\n"
     ]
    },
    {
     "name": "stderr",
     "output_type": "stream",
     "text": [
      "Downloading rows:   7%|▋         | 110000/1472089 [01:53<30:13, 751.19rows/s] "
     ]
    },
    {
     "name": "stdout",
     "output_type": "stream",
     "text": [
      "Saved checkpoint at page 110 (110,000 rows)\n"
     ]
    },
    {
     "name": "stderr",
     "output_type": "stream",
     "text": [
      "Downloading rows:   8%|▊         | 120000/1472089 [02:04<15:46, 1428.44rows/s]"
     ]
    },
    {
     "name": "stdout",
     "output_type": "stream",
     "text": [
      "Saved checkpoint at page 120 (120,000 rows)\n"
     ]
    },
    {
     "name": "stderr",
     "output_type": "stream",
     "text": [
      "Downloading rows:   9%|▉         | 130000/1472089 [02:16<15:46, 1417.42rows/s]"
     ]
    },
    {
     "name": "stdout",
     "output_type": "stream",
     "text": [
      "Saved checkpoint at page 130 (130,000 rows)\n"
     ]
    },
    {
     "name": "stderr",
     "output_type": "stream",
     "text": [
      "Downloading rows:  10%|▉         | 140000/1472089 [02:32<16:59, 1306.60rows/s] "
     ]
    },
    {
     "name": "stdout",
     "output_type": "stream",
     "text": [
      "Saved checkpoint at page 140 (140,000 rows)\n"
     ]
    },
    {
     "name": "stderr",
     "output_type": "stream",
     "text": [
      "Downloading rows:  10%|█         | 150000/1472089 [02:48<17:15, 1276.46rows/s] "
     ]
    },
    {
     "name": "stdout",
     "output_type": "stream",
     "text": [
      "Saved checkpoint at page 150 (150,000 rows)\n"
     ]
    },
    {
     "name": "stderr",
     "output_type": "stream",
     "text": [
      "Downloading rows:  11%|█         | 160000/1472089 [03:00<15:42, 1392.34rows/s]"
     ]
    },
    {
     "name": "stdout",
     "output_type": "stream",
     "text": [
      "Saved checkpoint at page 160 (160,000 rows)\n"
     ]
    },
    {
     "name": "stderr",
     "output_type": "stream",
     "text": [
      "Downloading rows:  12%|█▏        | 170000/1472089 [03:13<16:43, 1296.92rows/s]"
     ]
    },
    {
     "name": "stdout",
     "output_type": "stream",
     "text": [
      "Saved checkpoint at page 170 (170,000 rows)\n"
     ]
    },
    {
     "name": "stderr",
     "output_type": "stream",
     "text": [
      "Downloading rows:  12%|█▏        | 180000/1472089 [03:27<18:16, 1178.79rows/s]"
     ]
    },
    {
     "name": "stdout",
     "output_type": "stream",
     "text": [
      "Saved checkpoint at page 180 (180,000 rows)\n"
     ]
    },
    {
     "name": "stderr",
     "output_type": "stream",
     "text": [
      "Downloading rows:  13%|█▎        | 190000/1472089 [03:44<18:01, 1185.26rows/s] "
     ]
    },
    {
     "name": "stdout",
     "output_type": "stream",
     "text": [
      "Saved checkpoint at page 190 (190,000 rows)\n"
     ]
    },
    {
     "name": "stderr",
     "output_type": "stream",
     "text": [
      "Downloading rows:  14%|█▎        | 200000/1472089 [03:59<21:27, 987.66rows/s]  "
     ]
    },
    {
     "name": "stdout",
     "output_type": "stream",
     "text": [
      "Saved checkpoint at page 200 (200,000 rows)\n"
     ]
    },
    {
     "name": "stderr",
     "output_type": "stream",
     "text": [
      "Downloading rows:  14%|█▍        | 210000/1472089 [04:14<17:09, 1226.23rows/s] "
     ]
    },
    {
     "name": "stdout",
     "output_type": "stream",
     "text": [
      "Saved checkpoint at page 210 (210,000 rows)\n"
     ]
    },
    {
     "name": "stderr",
     "output_type": "stream",
     "text": [
      "Downloading rows:  15%|█▍        | 220000/1472089 [04:29<16:55, 1232.52rows/s] "
     ]
    },
    {
     "name": "stdout",
     "output_type": "stream",
     "text": [
      "Saved checkpoint at page 220 (220,000 rows)\n"
     ]
    },
    {
     "name": "stderr",
     "output_type": "stream",
     "text": [
      "Downloading rows:  16%|█▌        | 230000/1472089 [04:48<18:45, 1103.87rows/s] "
     ]
    },
    {
     "name": "stdout",
     "output_type": "stream",
     "text": [
      "Saved checkpoint at page 230 (230,000 rows)\n"
     ]
    },
    {
     "name": "stderr",
     "output_type": "stream",
     "text": [
      "Downloading rows:  16%|█▋        | 240000/1472089 [05:06<17:45, 1156.50rows/s] "
     ]
    },
    {
     "name": "stdout",
     "output_type": "stream",
     "text": [
      "Saved checkpoint at page 240 (240,000 rows)\n"
     ]
    },
    {
     "name": "stderr",
     "output_type": "stream",
     "text": [
      "Downloading rows:  17%|█▋        | 250000/1472089 [05:28<19:09, 1063.42rows/s] "
     ]
    },
    {
     "name": "stdout",
     "output_type": "stream",
     "text": [
      "Saved checkpoint at page 250 (250,000 rows)\n"
     ]
    },
    {
     "name": "stderr",
     "output_type": "stream",
     "text": [
      "Downloading rows:  18%|█▊        | 260000/1472089 [05:45<17:06, 1181.21rows/s] "
     ]
    },
    {
     "name": "stdout",
     "output_type": "stream",
     "text": [
      "Saved checkpoint at page 260 (260,000 rows)\n"
     ]
    },
    {
     "name": "stderr",
     "output_type": "stream",
     "text": [
      "Downloading rows:  18%|█▊        | 270000/1472089 [06:07<19:23, 1032.93rows/s] "
     ]
    },
    {
     "name": "stdout",
     "output_type": "stream",
     "text": [
      "Saved checkpoint at page 270 (270,000 rows)\n"
     ]
    },
    {
     "name": "stderr",
     "output_type": "stream",
     "text": [
      "Downloading rows:  19%|█▉        | 280000/1472089 [06:40<33:02, 601.26rows/s]  "
     ]
    },
    {
     "name": "stdout",
     "output_type": "stream",
     "text": [
      "Saved checkpoint at page 280 (280,000 rows)\n"
     ]
    },
    {
     "name": "stderr",
     "output_type": "stream",
     "text": [
      "Downloading rows:  20%|█▉        | 290000/1472089 [07:00<18:26, 1068.30rows/s] "
     ]
    },
    {
     "name": "stdout",
     "output_type": "stream",
     "text": [
      "Saved checkpoint at page 290 (290,000 rows)\n"
     ]
    },
    {
     "name": "stderr",
     "output_type": "stream",
     "text": [
      "Downloading rows:  20%|██        | 300000/1472089 [07:07<17:43, 1102.04rows/s] "
     ]
    },
    {
     "name": "stdout",
     "output_type": "stream",
     "text": [
      "Saved checkpoint at page 300 (300,000 rows)\n"
     ]
    },
    {
     "name": "stderr",
     "output_type": "stream",
     "text": [
      "Downloading rows:  21%|██        | 310000/1472089 [07:40<18:33, 1043.45rows/s] "
     ]
    },
    {
     "name": "stdout",
     "output_type": "stream",
     "text": [
      "Saved checkpoint at page 310 (310,000 rows)\n"
     ]
    },
    {
     "name": "stderr",
     "output_type": "stream",
     "text": [
      "Downloading rows:  22%|██▏       | 320000/1472089 [07:51<18:36, 1031.71rows/s] "
     ]
    },
    {
     "name": "stdout",
     "output_type": "stream",
     "text": [
      "Saved checkpoint at page 320 (320,000 rows)\n"
     ]
    },
    {
     "name": "stderr",
     "output_type": "stream",
     "text": [
      "Downloading rows:  22%|██▏       | 330000/1472089 [08:11<18:28, 1030.15rows/s] "
     ]
    },
    {
     "name": "stdout",
     "output_type": "stream",
     "text": [
      "Saved checkpoint at page 330 (330,000 rows)\n"
     ]
    },
    {
     "name": "stderr",
     "output_type": "stream",
     "text": [
      "Downloading rows:  23%|██▎       | 340000/1472089 [08:33<18:46, 1004.93rows/s] "
     ]
    },
    {
     "name": "stdout",
     "output_type": "stream",
     "text": [
      "Saved checkpoint at page 340 (340,000 rows)\n"
     ]
    },
    {
     "name": "stderr",
     "output_type": "stream",
     "text": [
      "Downloading rows:  24%|██▍       | 350000/1472089 [09:10<20:28, 913.32rows/s]  "
     ]
    },
    {
     "name": "stdout",
     "output_type": "stream",
     "text": [
      "Saved checkpoint at page 350 (350,000 rows)\n"
     ]
    },
    {
     "name": "stderr",
     "output_type": "stream",
     "text": [
      "Downloading rows:  24%|██▍       | 360000/1472089 [09:30<17:49, 1039.98rows/s] "
     ]
    },
    {
     "name": "stdout",
     "output_type": "stream",
     "text": [
      "Saved checkpoint at page 360 (360,000 rows)\n"
     ]
    },
    {
     "name": "stderr",
     "output_type": "stream",
     "text": [
      "Downloading rows:  25%|██▌       | 370000/1472089 [10:00<19:53, 923.52rows/s]  "
     ]
    },
    {
     "name": "stdout",
     "output_type": "stream",
     "text": [
      "Saved checkpoint at page 370 (370,000 rows)\n"
     ]
    },
    {
     "name": "stderr",
     "output_type": "stream",
     "text": [
      "Downloading rows:  26%|██▌       | 380000/1472089 [10:20<20:44, 877.76rows/s]  "
     ]
    },
    {
     "name": "stdout",
     "output_type": "stream",
     "text": [
      "Saved checkpoint at page 380 (380,000 rows)\n"
     ]
    },
    {
     "name": "stderr",
     "output_type": "stream",
     "text": [
      "Downloading rows:  26%|██▋       | 390000/1472089 [10:33<18:23, 980.53rows/s]  "
     ]
    },
    {
     "name": "stdout",
     "output_type": "stream",
     "text": [
      "Saved checkpoint at page 390 (390,000 rows)\n"
     ]
    },
    {
     "name": "stderr",
     "output_type": "stream",
     "text": [
      "Downloading rows:  27%|██▋       | 400000/1472089 [11:10<17:46, 1005.56rows/s] "
     ]
    },
    {
     "name": "stdout",
     "output_type": "stream",
     "text": [
      "Saved checkpoint at page 400 (400,000 rows)\n"
     ]
    },
    {
     "name": "stderr",
     "output_type": "stream",
     "text": [
      "Downloading rows:  28%|██▊       | 410000/1472089 [11:21<18:03, 980.60rows/s]  "
     ]
    },
    {
     "name": "stdout",
     "output_type": "stream",
     "text": [
      "Saved checkpoint at page 410 (410,000 rows)\n"
     ]
    },
    {
     "name": "stderr",
     "output_type": "stream",
     "text": [
      "Downloading rows:  29%|██▊       | 420000/1472089 [12:00<18:54, 927.62rows/s]  "
     ]
    },
    {
     "name": "stdout",
     "output_type": "stream",
     "text": [
      "Saved checkpoint at page 420 (420,000 rows)\n"
     ]
    },
    {
     "name": "stderr",
     "output_type": "stream",
     "text": [
      "Downloading rows:  29%|██▉       | 430000/1472089 [12:30<18:07, 958.14rows/s]  "
     ]
    },
    {
     "name": "stdout",
     "output_type": "stream",
     "text": [
      "Saved checkpoint at page 430 (430,000 rows)\n"
     ]
    },
    {
     "name": "stderr",
     "output_type": "stream",
     "text": [
      "Downloading rows:  30%|██▉       | 440000/1472089 [12:42<19:41, 873.42rows/s]  "
     ]
    },
    {
     "name": "stdout",
     "output_type": "stream",
     "text": [
      "Saved checkpoint at page 440 (440,000 rows)\n"
     ]
    },
    {
     "name": "stderr",
     "output_type": "stream",
     "text": [
      "Downloading rows:  31%|███       | 450000/1472089 [13:20<18:01, 944.86rows/s]  "
     ]
    },
    {
     "name": "stdout",
     "output_type": "stream",
     "text": [
      "Saved checkpoint at page 450 (450,000 rows)\n"
     ]
    },
    {
     "name": "stderr",
     "output_type": "stream",
     "text": [
      "Downloading rows:  31%|███       | 460000/1472089 [13:50<18:21, 918.53rows/s]  "
     ]
    },
    {
     "name": "stdout",
     "output_type": "stream",
     "text": [
      "Saved checkpoint at page 460 (460,000 rows)\n"
     ]
    },
    {
     "name": "stderr",
     "output_type": "stream",
     "text": [
      "Downloading rows:  32%|███▏      | 470000/1472089 [14:20<19:57, 837.01rows/s]  "
     ]
    },
    {
     "name": "stdout",
     "output_type": "stream",
     "text": [
      "Saved checkpoint at page 470 (470,000 rows)\n"
     ]
    },
    {
     "name": "stderr",
     "output_type": "stream",
     "text": [
      "Downloading rows:  33%|███▎      | 480000/1472089 [14:50<20:18, 814.21rows/s]  "
     ]
    },
    {
     "name": "stdout",
     "output_type": "stream",
     "text": [
      "Saved checkpoint at page 480 (480,000 rows)\n"
     ]
    },
    {
     "name": "stderr",
     "output_type": "stream",
     "text": [
      "Downloading rows:  33%|███▎      | 490000/1472089 [15:20<18:49, 869.76rows/s]  "
     ]
    },
    {
     "name": "stdout",
     "output_type": "stream",
     "text": [
      "Saved checkpoint at page 490 (490,000 rows)\n"
     ]
    },
    {
     "name": "stderr",
     "output_type": "stream",
     "text": [
      "Downloading rows:  34%|███▍      | 500000/1472089 [15:50<18:09, 892.28rows/s]  "
     ]
    },
    {
     "name": "stdout",
     "output_type": "stream",
     "text": [
      "Saved checkpoint at page 500 (500,000 rows)\n"
     ]
    },
    {
     "name": "stderr",
     "output_type": "stream",
     "text": [
      "Downloading rows:  35%|███▍      | 510000/1472089 [16:20<19:23, 826.83rows/s]  "
     ]
    },
    {
     "name": "stdout",
     "output_type": "stream",
     "text": [
      "Saved checkpoint at page 510 (510,000 rows)\n"
     ]
    },
    {
     "name": "stderr",
     "output_type": "stream",
     "text": [
      "Downloading rows:  35%|███▌      | 520000/1472089 [16:50<19:24, 817.82rows/s]  "
     ]
    },
    {
     "name": "stdout",
     "output_type": "stream",
     "text": [
      "Saved checkpoint at page 520 (520,000 rows)\n"
     ]
    },
    {
     "name": "stderr",
     "output_type": "stream",
     "text": [
      "Downloading rows:  36%|███▌      | 530000/1472089 [17:20<19:33, 802.85rows/s]  "
     ]
    },
    {
     "name": "stdout",
     "output_type": "stream",
     "text": [
      "Saved checkpoint at page 530 (530,000 rows)\n"
     ]
    },
    {
     "name": "stderr",
     "output_type": "stream",
     "text": [
      "Downloading rows:  37%|███▋      | 540000/1472089 [18:00<20:17, 765.62rows/s]  "
     ]
    },
    {
     "name": "stdout",
     "output_type": "stream",
     "text": [
      "Saved checkpoint at page 540 (540,000 rows)\n"
     ]
    },
    {
     "name": "stderr",
     "output_type": "stream",
     "text": [
      "Downloading rows:  37%|███▋      | 550000/1472089 [18:30<18:16, 840.77rows/s]  "
     ]
    },
    {
     "name": "stdout",
     "output_type": "stream",
     "text": [
      "Saved checkpoint at page 550 (550,000 rows)\n"
     ]
    },
    {
     "name": "stderr",
     "output_type": "stream",
     "text": [
      "Downloading rows:  38%|███▊      | 560000/1472089 [19:00<19:26, 782.23rows/s]  "
     ]
    },
    {
     "name": "stdout",
     "output_type": "stream",
     "text": [
      "Saved checkpoint at page 560 (560,000 rows)\n"
     ]
    },
    {
     "name": "stderr",
     "output_type": "stream",
     "text": [
      "Downloading rows:  39%|███▊      | 570000/1472089 [19:30<20:15, 742.39rows/s]  "
     ]
    },
    {
     "name": "stdout",
     "output_type": "stream",
     "text": [
      "Saved checkpoint at page 570 (570,000 rows)\n"
     ]
    },
    {
     "name": "stderr",
     "output_type": "stream",
     "text": [
      "Downloading rows:  39%|███▉      | 580000/1472089 [20:01<17:59, 826.68rows/s]  "
     ]
    },
    {
     "name": "stdout",
     "output_type": "stream",
     "text": [
      "Saved checkpoint at page 580 (580,000 rows)\n"
     ]
    },
    {
     "name": "stderr",
     "output_type": "stream",
     "text": [
      "Downloading rows:  40%|████      | 590000/1472089 [20:41<22:36, 650.36rows/s]  "
     ]
    },
    {
     "name": "stdout",
     "output_type": "stream",
     "text": [
      "Saved checkpoint at page 590 (590,000 rows)\n"
     ]
    },
    {
     "name": "stderr",
     "output_type": "stream",
     "text": [
      "Downloading rows:  41%|████      | 600000/1472089 [21:21<20:07, 722.27rows/s]  "
     ]
    },
    {
     "name": "stdout",
     "output_type": "stream",
     "text": [
      "Saved checkpoint at page 600 (600,000 rows)\n"
     ]
    },
    {
     "name": "stderr",
     "output_type": "stream",
     "text": [
      "Downloading rows:  41%|████▏     | 610000/1472089 [21:51<17:51, 804.50rows/s]  "
     ]
    },
    {
     "name": "stdout",
     "output_type": "stream",
     "text": [
      "Saved checkpoint at page 610 (610,000 rows)\n"
     ]
    },
    {
     "name": "stderr",
     "output_type": "stream",
     "text": [
      "Downloading rows:  42%|████▏     | 620000/1472089 [22:21<17:38, 805.34rows/s]  "
     ]
    },
    {
     "name": "stdout",
     "output_type": "stream",
     "text": [
      "Saved checkpoint at page 620 (620,000 rows)\n"
     ]
    },
    {
     "name": "stderr",
     "output_type": "stream",
     "text": [
      "Downloading rows:  43%|████▎     | 630000/1472089 [23:01<18:55, 741.70rows/s]  "
     ]
    },
    {
     "name": "stdout",
     "output_type": "stream",
     "text": [
      "Saved checkpoint at page 630 (630,000 rows)\n"
     ]
    },
    {
     "name": "stderr",
     "output_type": "stream",
     "text": [
      "Downloading rows:  43%|████▎     | 640000/1472089 [23:41<20:08, 688.63rows/s]  "
     ]
    },
    {
     "name": "stdout",
     "output_type": "stream",
     "text": [
      "Saved checkpoint at page 640 (640,000 rows)\n"
     ]
    },
    {
     "name": "stderr",
     "output_type": "stream",
     "text": [
      "Downloading rows:  44%|████▍     | 650000/1472089 [24:11<18:43, 731.48rows/s]  "
     ]
    },
    {
     "name": "stdout",
     "output_type": "stream",
     "text": [
      "Saved checkpoint at page 650 (650,000 rows)\n"
     ]
    },
    {
     "name": "stderr",
     "output_type": "stream",
     "text": [
      "Downloading rows:  45%|████▍     | 660000/1472089 [24:51<17:55, 755.10rows/s]  "
     ]
    },
    {
     "name": "stdout",
     "output_type": "stream",
     "text": [
      "Saved checkpoint at page 660 (660,000 rows)\n"
     ]
    },
    {
     "name": "stderr",
     "output_type": "stream",
     "text": [
      "Downloading rows:  46%|████▌     | 670000/1472089 [25:31<18:15, 732.22rows/s]  "
     ]
    },
    {
     "name": "stdout",
     "output_type": "stream",
     "text": [
      "Saved checkpoint at page 670 (670,000 rows)\n"
     ]
    },
    {
     "name": "stderr",
     "output_type": "stream",
     "text": [
      "Downloading rows:  46%|████▌     | 680000/1472089 [26:01<18:36, 709.61rows/s]  "
     ]
    },
    {
     "name": "stdout",
     "output_type": "stream",
     "text": [
      "Saved checkpoint at page 680 (680,000 rows)\n"
     ]
    },
    {
     "name": "stderr",
     "output_type": "stream",
     "text": [
      "Downloading rows:  47%|████▋     | 690000/1472089 [26:51<18:16, 713.07rows/s]  "
     ]
    },
    {
     "name": "stdout",
     "output_type": "stream",
     "text": [
      "Saved checkpoint at page 690 (690,000 rows)\n"
     ]
    },
    {
     "name": "stderr",
     "output_type": "stream",
     "text": [
      "Downloading rows:  48%|████▊     | 700000/1472089 [27:21<17:46, 724.06rows/s]  "
     ]
    },
    {
     "name": "stdout",
     "output_type": "stream",
     "text": [
      "Saved checkpoint at page 700 (700,000 rows)\n"
     ]
    },
    {
     "name": "stderr",
     "output_type": "stream",
     "text": [
      "Downloading rows:  48%|████▊     | 710000/1472089 [28:01<17:38, 720.05rows/s]  "
     ]
    },
    {
     "name": "stdout",
     "output_type": "stream",
     "text": [
      "Saved checkpoint at page 710 (710,000 rows)\n"
     ]
    },
    {
     "name": "stderr",
     "output_type": "stream",
     "text": [
      "Downloading rows:  49%|████▉     | 720000/1472089 [28:41<16:54, 741.19rows/s]  "
     ]
    },
    {
     "name": "stdout",
     "output_type": "stream",
     "text": [
      "Saved checkpoint at page 720 (720,000 rows)\n"
     ]
    },
    {
     "name": "stderr",
     "output_type": "stream",
     "text": [
      "Downloading rows:  50%|████▉     | 730000/1472089 [29:21<18:16, 676.59rows/s]  "
     ]
    },
    {
     "name": "stdout",
     "output_type": "stream",
     "text": [
      "Saved checkpoint at page 730 (730,000 rows)\n"
     ]
    },
    {
     "name": "stderr",
     "output_type": "stream",
     "text": [
      "Downloading rows:  50%|█████     | 740000/1472089 [30:01<17:58, 678.53rows/s]  "
     ]
    },
    {
     "name": "stdout",
     "output_type": "stream",
     "text": [
      "Saved checkpoint at page 740 (740,000 rows)\n"
     ]
    },
    {
     "name": "stderr",
     "output_type": "stream",
     "text": [
      "Downloading rows:  51%|█████     | 750000/1472089 [30:41<18:53, 636.95rows/s]  "
     ]
    },
    {
     "name": "stdout",
     "output_type": "stream",
     "text": [
      "Saved checkpoint at page 750 (750,000 rows)\n"
     ]
    },
    {
     "name": "stderr",
     "output_type": "stream",
     "text": [
      "Downloading rows:  52%|█████▏    | 760000/1472089 [31:21<18:10, 652.74rows/s]  "
     ]
    },
    {
     "name": "stdout",
     "output_type": "stream",
     "text": [
      "Saved checkpoint at page 760 (760,000 rows)\n"
     ]
    },
    {
     "name": "stderr",
     "output_type": "stream",
     "text": [
      "Downloading rows:  52%|█████▏    | 770000/1472089 [32:11<17:36, 664.74rows/s]  "
     ]
    },
    {
     "name": "stdout",
     "output_type": "stream",
     "text": [
      "Saved checkpoint at page 770 (770,000 rows)\n"
     ]
    },
    {
     "name": "stderr",
     "output_type": "stream",
     "text": [
      "Downloading rows:  53%|█████▎    | 780000/1472089 [32:51<17:26, 661.40rows/s]  "
     ]
    },
    {
     "name": "stdout",
     "output_type": "stream",
     "text": [
      "Saved checkpoint at page 780 (780,000 rows)\n"
     ]
    },
    {
     "name": "stderr",
     "output_type": "stream",
     "text": [
      "Downloading rows:  54%|█████▎    | 790000/1472089 [33:31<16:32, 686.97rows/s]  "
     ]
    },
    {
     "name": "stdout",
     "output_type": "stream",
     "text": [
      "Saved checkpoint at page 790 (790,000 rows)\n"
     ]
    },
    {
     "name": "stderr",
     "output_type": "stream",
     "text": [
      "Downloading rows:  54%|█████▍    | 800000/1472089 [34:11<18:29, 605.79rows/s]  "
     ]
    },
    {
     "name": "stdout",
     "output_type": "stream",
     "text": [
      "Saved checkpoint at page 800 (800,000 rows)\n"
     ]
    },
    {
     "name": "stderr",
     "output_type": "stream",
     "text": [
      "Downloading rows:  55%|█████▌    | 810000/1472089 [35:02<17:59, 613.56rows/s]  "
     ]
    },
    {
     "name": "stdout",
     "output_type": "stream",
     "text": [
      "Saved checkpoint at page 810 (810,000 rows)\n"
     ]
    },
    {
     "name": "stderr",
     "output_type": "stream",
     "text": [
      "Downloading rows:  56%|█████▌    | 820000/1472089 [35:52<17:15, 629.55rows/s]  "
     ]
    },
    {
     "name": "stdout",
     "output_type": "stream",
     "text": [
      "Saved checkpoint at page 820 (820,000 rows)\n"
     ]
    },
    {
     "name": "stderr",
     "output_type": "stream",
     "text": [
      "Downloading rows:  56%|█████▋    | 830000/1472089 [36:32<16:29, 648.65rows/s]  "
     ]
    },
    {
     "name": "stdout",
     "output_type": "stream",
     "text": [
      "Saved checkpoint at page 830 (830,000 rows)\n"
     ]
    },
    {
     "name": "stderr",
     "output_type": "stream",
     "text": [
      "Downloading rows:  57%|█████▋    | 840000/1472089 [37:12<16:01, 657.59rows/s]  "
     ]
    },
    {
     "name": "stdout",
     "output_type": "stream",
     "text": [
      "Saved checkpoint at page 840 (840,000 rows)\n"
     ]
    },
    {
     "name": "stderr",
     "output_type": "stream",
     "text": [
      "Downloading rows:  58%|█████▊    | 850000/1472089 [38:02<16:57, 611.47rows/s]  "
     ]
    },
    {
     "name": "stdout",
     "output_type": "stream",
     "text": [
      "Saved checkpoint at page 850 (850,000 rows)\n"
     ]
    },
    {
     "name": "stderr",
     "output_type": "stream",
     "text": [
      "Downloading rows:  58%|█████▊    | 860000/1472089 [38:52<16:25, 621.02rows/s]  "
     ]
    },
    {
     "name": "stdout",
     "output_type": "stream",
     "text": [
      "Saved checkpoint at page 860 (860,000 rows)\n"
     ]
    },
    {
     "name": "stderr",
     "output_type": "stream",
     "text": [
      "Downloading rows:  59%|█████▉    | 870000/1472089 [39:32<15:50, 633.45rows/s]  "
     ]
    },
    {
     "name": "stdout",
     "output_type": "stream",
     "text": [
      "Saved checkpoint at page 870 (870,000 rows)\n"
     ]
    },
    {
     "name": "stderr",
     "output_type": "stream",
     "text": [
      "Downloading rows:  60%|█████▉    | 880000/1472089 [40:22<15:26, 639.12rows/s]  "
     ]
    },
    {
     "name": "stdout",
     "output_type": "stream",
     "text": [
      "Saved checkpoint at page 880 (880,000 rows)\n"
     ]
    },
    {
     "name": "stderr",
     "output_type": "stream",
     "text": [
      "Downloading rows:  60%|██████    | 890000/1472089 [41:12<15:02, 644.85rows/s]  "
     ]
    },
    {
     "name": "stdout",
     "output_type": "stream",
     "text": [
      "Saved checkpoint at page 890 (890,000 rows)\n"
     ]
    },
    {
     "name": "stderr",
     "output_type": "stream",
     "text": [
      "Downloading rows:  61%|██████    | 900000/1472089 [41:52<14:59, 636.23rows/s]  "
     ]
    },
    {
     "name": "stdout",
     "output_type": "stream",
     "text": [
      "Saved checkpoint at page 900 (900,000 rows)\n"
     ]
    },
    {
     "name": "stderr",
     "output_type": "stream",
     "text": [
      "Downloading rows:  62%|██████▏   | 910000/1472089 [42:42<15:50, 591.13rows/s]  "
     ]
    },
    {
     "name": "stdout",
     "output_type": "stream",
     "text": [
      "Saved checkpoint at page 910 (910,000 rows)\n"
     ]
    },
    {
     "name": "stderr",
     "output_type": "stream",
     "text": [
      "Downloading rows:  62%|██████▏   | 920000/1472089 [43:32<14:42, 625.62rows/s]  "
     ]
    },
    {
     "name": "stdout",
     "output_type": "stream",
     "text": [
      "Saved checkpoint at page 920 (920,000 rows)\n"
     ]
    },
    {
     "name": "stderr",
     "output_type": "stream",
     "text": [
      "Downloading rows:  63%|██████▎   | 930000/1472089 [44:22<14:41, 614.92rows/s]  "
     ]
    },
    {
     "name": "stdout",
     "output_type": "stream",
     "text": [
      "Saved checkpoint at page 930 (930,000 rows)\n"
     ]
    },
    {
     "name": "stderr",
     "output_type": "stream",
     "text": [
      "Downloading rows:  64%|██████▍   | 940000/1472089 [45:12<16:11, 547.85rows/s]  "
     ]
    },
    {
     "name": "stdout",
     "output_type": "stream",
     "text": [
      "Saved checkpoint at page 940 (940,000 rows)\n"
     ]
    },
    {
     "name": "stderr",
     "output_type": "stream",
     "text": [
      "Downloading rows:  65%|██████▍   | 950000/1472089 [46:02<14:25, 603.34rows/s]  "
     ]
    },
    {
     "name": "stdout",
     "output_type": "stream",
     "text": [
      "Saved checkpoint at page 950 (950,000 rows)\n"
     ]
    },
    {
     "name": "stderr",
     "output_type": "stream",
     "text": [
      "Downloading rows:  65%|██████▌   | 960000/1472089 [46:52<16:56, 503.82rows/s]  "
     ]
    },
    {
     "name": "stdout",
     "output_type": "stream",
     "text": [
      "Saved checkpoint at page 960 (960,000 rows)\n"
     ]
    },
    {
     "name": "stderr",
     "output_type": "stream",
     "text": [
      "Downloading rows:  66%|██████▌   | 970000/1472089 [47:42<14:20, 583.27rows/s]  "
     ]
    },
    {
     "name": "stdout",
     "output_type": "stream",
     "text": [
      "Saved checkpoint at page 970 (970,000 rows)\n"
     ]
    },
    {
     "name": "stderr",
     "output_type": "stream",
     "text": [
      "Downloading rows:  67%|██████▋   | 980000/1472089 [48:33<14:18, 572.92rows/s]  "
     ]
    },
    {
     "name": "stdout",
     "output_type": "stream",
     "text": [
      "Saved checkpoint at page 980 (980,000 rows)\n"
     ]
    },
    {
     "name": "stderr",
     "output_type": "stream",
     "text": [
      "Downloading rows:  67%|██████▋   | 990000/1472089 [49:23<13:50, 580.67rows/s]  "
     ]
    },
    {
     "name": "stdout",
     "output_type": "stream",
     "text": [
      "Saved checkpoint at page 990 (990,000 rows)\n"
     ]
    },
    {
     "name": "stderr",
     "output_type": "stream",
     "text": [
      "Downloading rows:  68%|██████▊   | 1000000/1472089 [50:23<14:09, 556.04rows/s] "
     ]
    },
    {
     "name": "stdout",
     "output_type": "stream",
     "text": [
      "Saved checkpoint at page 1000 (1,000,000 rows)\n"
     ]
    },
    {
     "name": "stderr",
     "output_type": "stream",
     "text": [
      "Downloading rows:  69%|██████▊   | 1010000/1472089 [51:13<13:19, 577.97rows/s]  "
     ]
    },
    {
     "name": "stdout",
     "output_type": "stream",
     "text": [
      "Saved checkpoint at page 1010 (1,010,000 rows)\n"
     ]
    },
    {
     "name": "stderr",
     "output_type": "stream",
     "text": [
      "Downloading rows:  69%|██████▉   | 1020000/1472089 [52:03<13:11, 571.17rows/s] "
     ]
    },
    {
     "name": "stdout",
     "output_type": "stream",
     "text": [
      "Saved checkpoint at page 1020 (1,020,000 rows)\n"
     ]
    },
    {
     "name": "stderr",
     "output_type": "stream",
     "text": [
      "Downloading rows:  70%|██████▉   | 1030000/1472089 [53:03<14:21, 513.25rows/s]  "
     ]
    },
    {
     "name": "stdout",
     "output_type": "stream",
     "text": [
      "Saved checkpoint at page 1030 (1,030,000 rows)\n"
     ]
    },
    {
     "name": "stderr",
     "output_type": "stream",
     "text": [
      "Downloading rows:  71%|███████   | 1040000/1472089 [53:53<13:10, 546.41rows/s] "
     ]
    },
    {
     "name": "stdout",
     "output_type": "stream",
     "text": [
      "Saved checkpoint at page 1040 (1,040,000 rows)\n"
     ]
    },
    {
     "name": "stderr",
     "output_type": "stream",
     "text": [
      "Downloading rows:  71%|███████▏  | 1050000/1472089 [54:53<13:03, 538.83rows/s] "
     ]
    },
    {
     "name": "stdout",
     "output_type": "stream",
     "text": [
      "Saved checkpoint at page 1050 (1,050,000 rows)\n"
     ]
    },
    {
     "name": "stderr",
     "output_type": "stream",
     "text": [
      "Downloading rows:  72%|███████▏  | 1060000/1472089 [55:53<13:14, 518.53rows/s] "
     ]
    },
    {
     "name": "stdout",
     "output_type": "stream",
     "text": [
      "Saved checkpoint at page 1060 (1,060,000 rows)\n"
     ]
    },
    {
     "name": "stderr",
     "output_type": "stream",
     "text": [
      "Downloading rows:  73%|███████▎  | 1070000/1472089 [56:43<12:20, 542.97rows/s] "
     ]
    },
    {
     "name": "stdout",
     "output_type": "stream",
     "text": [
      "Saved checkpoint at page 1070 (1,070,000 rows)\n"
     ]
    },
    {
     "name": "stderr",
     "output_type": "stream",
     "text": [
      "Downloading rows:  73%|███████▎  | 1080000/1472089 [57:53<18:57, 344.58rows/s] "
     ]
    },
    {
     "name": "stdout",
     "output_type": "stream",
     "text": [
      "Saved checkpoint at page 1080 (1,080,000 rows)\n"
     ]
    },
    {
     "name": "stderr",
     "output_type": "stream",
     "text": [
      "Downloading rows:  74%|███████▍  | 1090000/1472089 [58:43<12:16, 518.64rows/s] "
     ]
    },
    {
     "name": "stdout",
     "output_type": "stream",
     "text": [
      "Saved checkpoint at page 1090 (1,090,000 rows)\n"
     ]
    },
    {
     "name": "stderr",
     "output_type": "stream",
     "text": [
      "Downloading rows:  75%|███████▍  | 1100000/1472089 [59:53<18:41, 331.65rows/s] "
     ]
    },
    {
     "name": "stdout",
     "output_type": "stream",
     "text": [
      "Saved checkpoint at page 1100 (1,100,000 rows)\n"
     ]
    },
    {
     "name": "stderr",
     "output_type": "stream",
     "text": [
      "Downloading rows:  75%|███████▌  | 1110000/1472089 [1:00:43<11:47, 511.59rows/s] "
     ]
    },
    {
     "name": "stdout",
     "output_type": "stream",
     "text": [
      "Saved checkpoint at page 1110 (1,110,000 rows)\n"
     ]
    },
    {
     "name": "stderr",
     "output_type": "stream",
     "text": [
      "Downloading rows:  76%|███████▌  | 1120000/1472089 [1:01:43<11:19, 517.80rows/s] "
     ]
    },
    {
     "name": "stdout",
     "output_type": "stream",
     "text": [
      "Saved checkpoint at page 1120 (1,120,000 rows)\n"
     ]
    },
    {
     "name": "stderr",
     "output_type": "stream",
     "text": [
      "Downloading rows:  77%|███████▋  | 1130000/1472089 [1:02:44<11:20, 502.81rows/s] "
     ]
    },
    {
     "name": "stdout",
     "output_type": "stream",
     "text": [
      "Saved checkpoint at page 1130 (1,130,000 rows)\n"
     ]
    },
    {
     "name": "stderr",
     "output_type": "stream",
     "text": [
      "Downloading rows:  77%|███████▋  | 1140000/1472089 [1:03:44<11:14, 492.14rows/s] "
     ]
    },
    {
     "name": "stdout",
     "output_type": "stream",
     "text": [
      "Saved checkpoint at page 1140 (1,140,000 rows)\n"
     ]
    },
    {
     "name": "stderr",
     "output_type": "stream",
     "text": [
      "Downloading rows:  78%|███████▊  | 1150000/1472089 [1:04:54<10:58, 489.43rows/s] "
     ]
    },
    {
     "name": "stdout",
     "output_type": "stream",
     "text": [
      "Saved checkpoint at page 1150 (1,150,000 rows)\n"
     ]
    },
    {
     "name": "stderr",
     "output_type": "stream",
     "text": [
      "Downloading rows:  79%|███████▉  | 1160000/1472089 [1:05:54<13:14, 392.74rows/s] "
     ]
    },
    {
     "name": "stdout",
     "output_type": "stream",
     "text": [
      "Saved checkpoint at page 1160 (1,160,000 rows)\n"
     ]
    },
    {
     "name": "stderr",
     "output_type": "stream",
     "text": [
      "Downloading rows:  79%|███████▉  | 1170000/1472089 [1:06:54<14:36, 344.77rows/s] "
     ]
    },
    {
     "name": "stdout",
     "output_type": "stream",
     "text": [
      "Saved checkpoint at page 1170 (1,170,000 rows)\n"
     ]
    },
    {
     "name": "stderr",
     "output_type": "stream",
     "text": [
      "Downloading rows:  80%|████████  | 1180000/1472089 [1:07:54<11:09, 436.34rows/s] "
     ]
    },
    {
     "name": "stdout",
     "output_type": "stream",
     "text": [
      "Saved checkpoint at page 1180 (1,180,000 rows)\n"
     ]
    },
    {
     "name": "stderr",
     "output_type": "stream",
     "text": [
      "Downloading rows:  81%|████████  | 1190000/1472089 [1:09:04<09:47, 480.40rows/s] "
     ]
    },
    {
     "name": "stdout",
     "output_type": "stream",
     "text": [
      "Saved checkpoint at page 1190 (1,190,000 rows)\n"
     ]
    },
    {
     "name": "stderr",
     "output_type": "stream",
     "text": [
      "Downloading rows:  82%|████████▏ | 1200000/1472089 [1:10:04<09:49, 461.75rows/s] "
     ]
    },
    {
     "name": "stdout",
     "output_type": "stream",
     "text": [
      "Saved checkpoint at page 1200 (1,200,000 rows)\n"
     ]
    },
    {
     "name": "stderr",
     "output_type": "stream",
     "text": [
      "Downloading rows:  82%|████████▏ | 1210000/1472089 [1:11:04<09:52, 442.20rows/s] "
     ]
    },
    {
     "name": "stdout",
     "output_type": "stream",
     "text": [
      "Saved checkpoint at page 1210 (1,210,000 rows)\n"
     ]
    },
    {
     "name": "stderr",
     "output_type": "stream",
     "text": [
      "Downloading rows:  83%|████████▎ | 1220000/1472089 [1:12:04<08:26, 497.87rows/s] "
     ]
    },
    {
     "name": "stdout",
     "output_type": "stream",
     "text": [
      "Saved checkpoint at page 1220 (1,220,000 rows)\n"
     ]
    },
    {
     "name": "stderr",
     "output_type": "stream",
     "text": [
      "Downloading rows:  84%|████████▎ | 1230000/1472089 [1:13:14<08:20, 484.03rows/s] "
     ]
    },
    {
     "name": "stdout",
     "output_type": "stream",
     "text": [
      "Saved checkpoint at page 1230 (1,230,000 rows)\n"
     ]
    },
    {
     "name": "stderr",
     "output_type": "stream",
     "text": [
      "Downloading rows:  84%|████████▍ | 1240000/1472089 [1:14:14<11:35, 333.87rows/s] "
     ]
    },
    {
     "name": "stdout",
     "output_type": "stream",
     "text": [
      "Saved checkpoint at page 1240 (1,240,000 rows)\n"
     ]
    },
    {
     "name": "stderr",
     "output_type": "stream",
     "text": [
      "Downloading rows:  85%|████████▍ | 1250000/1472089 [1:15:24<08:34, 431.86rows/s] "
     ]
    },
    {
     "name": "stdout",
     "output_type": "stream",
     "text": [
      "Saved checkpoint at page 1250 (1,250,000 rows)\n"
     ]
    },
    {
     "name": "stderr",
     "output_type": "stream",
     "text": [
      "Downloading rows:  86%|████████▌ | 1260000/1472089 [1:16:34<07:00, 504.23rows/s] "
     ]
    },
    {
     "name": "stdout",
     "output_type": "stream",
     "text": [
      "Saved checkpoint at page 1260 (1,260,000 rows)\n"
     ]
    },
    {
     "name": "stderr",
     "output_type": "stream",
     "text": [
      "Downloading rows:  86%|████████▋ | 1270000/1472089 [1:17:34<07:27, 451.54rows/s]"
     ]
    },
    {
     "name": "stdout",
     "output_type": "stream",
     "text": [
      "Saved checkpoint at page 1270 (1,270,000 rows)\n"
     ]
    },
    {
     "name": "stderr",
     "output_type": "stream",
     "text": [
      "Downloading rows:  87%|████████▋ | 1280000/1472089 [1:18:45<06:47, 471.79rows/s] "
     ]
    },
    {
     "name": "stdout",
     "output_type": "stream",
     "text": [
      "Saved checkpoint at page 1280 (1,280,000 rows)\n"
     ]
    },
    {
     "name": "stderr",
     "output_type": "stream",
     "text": [
      "Downloading rows:  88%|████████▊ | 1290000/1472089 [1:19:45<05:59, 505.88rows/s]"
     ]
    },
    {
     "name": "stdout",
     "output_type": "stream",
     "text": [
      "Saved checkpoint at page 1290 (1,290,000 rows)\n"
     ]
    },
    {
     "name": "stderr",
     "output_type": "stream",
     "text": [
      "Downloading rows:  88%|████████▊ | 1300000/1472089 [1:20:35<05:32, 518.13rows/s]"
     ]
    },
    {
     "name": "stdout",
     "output_type": "stream",
     "text": [
      "Saved checkpoint at page 1300 (1,300,000 rows)\n"
     ]
    },
    {
     "name": "stderr",
     "output_type": "stream",
     "text": [
      "Downloading rows:  89%|████████▉ | 1310000/1472089 [1:21:35<05:08, 526.25rows/s]"
     ]
    },
    {
     "name": "stdout",
     "output_type": "stream",
     "text": [
      "Saved checkpoint at page 1310 (1,310,000 rows)\n"
     ]
    },
    {
     "name": "stderr",
     "output_type": "stream",
     "text": [
      "Downloading rows:  90%|████████▉ | 1320000/1472089 [1:22:25<06:22, 397.49rows/s]"
     ]
    },
    {
     "name": "stdout",
     "output_type": "stream",
     "text": [
      "Saved checkpoint at page 1320 (1,320,000 rows)\n"
     ]
    },
    {
     "name": "stderr",
     "output_type": "stream",
     "text": [
      "Downloading rows:  90%|█████████ | 1330000/1472089 [1:23:15<05:12, 455.22rows/s]"
     ]
    },
    {
     "name": "stdout",
     "output_type": "stream",
     "text": [
      "Saved checkpoint at page 1330 (1,330,000 rows)\n"
     ]
    },
    {
     "name": "stderr",
     "output_type": "stream",
     "text": [
      "Downloading rows:  91%|█████████ | 1340000/1472089 [1:24:15<04:25, 497.72rows/s]"
     ]
    },
    {
     "name": "stdout",
     "output_type": "stream",
     "text": [
      "Saved checkpoint at page 1340 (1,340,000 rows)\n"
     ]
    },
    {
     "name": "stderr",
     "output_type": "stream",
     "text": [
      "Downloading rows:  92%|█████████▏| 1350000/1472089 [1:25:15<05:56, 341.99rows/s]"
     ]
    },
    {
     "name": "stdout",
     "output_type": "stream",
     "text": [
      "Saved checkpoint at page 1350 (1,350,000 rows)\n"
     ]
    },
    {
     "name": "stderr",
     "output_type": "stream",
     "text": [
      "Downloading rows:  92%|█████████▏| 1360000/1472089 [1:26:15<05:27, 341.92rows/s]"
     ]
    },
    {
     "name": "stdout",
     "output_type": "stream",
     "text": [
      "Saved checkpoint at page 1360 (1,360,000 rows)\n"
     ]
    },
    {
     "name": "stderr",
     "output_type": "stream",
     "text": [
      "Downloading rows:  93%|█████████▎| 1370000/1472089 [1:27:05<03:41, 461.18rows/s]"
     ]
    },
    {
     "name": "stdout",
     "output_type": "stream",
     "text": [
      "Saved checkpoint at page 1370 (1,370,000 rows)\n"
     ]
    },
    {
     "name": "stderr",
     "output_type": "stream",
     "text": [
      "Downloading rows:  94%|█████████▎| 1380000/1472089 [1:28:05<04:49, 318.29rows/s]"
     ]
    },
    {
     "name": "stdout",
     "output_type": "stream",
     "text": [
      "Saved checkpoint at page 1380 (1,380,000 rows)\n"
     ]
    },
    {
     "name": "stderr",
     "output_type": "stream",
     "text": [
      "Downloading rows:  94%|█████████▍| 1390000/1472089 [1:28:55<02:44, 498.42rows/s]"
     ]
    },
    {
     "name": "stdout",
     "output_type": "stream",
     "text": [
      "Saved checkpoint at page 1390 (1,390,000 rows)\n"
     ]
    },
    {
     "name": "stderr",
     "output_type": "stream",
     "text": [
      "Downloading rows:  95%|█████████▌| 1400000/1472089 [1:29:55<03:27, 347.45rows/s]"
     ]
    },
    {
     "name": "stdout",
     "output_type": "stream",
     "text": [
      "Saved checkpoint at page 1400 (1,400,000 rows)\n"
     ]
    },
    {
     "name": "stderr",
     "output_type": "stream",
     "text": [
      "Downloading rows:  96%|█████████▌| 1410000/1472089 [1:30:45<02:11, 472.61rows/s]"
     ]
    },
    {
     "name": "stdout",
     "output_type": "stream",
     "text": [
      "Saved checkpoint at page 1410 (1,410,000 rows)\n"
     ]
    },
    {
     "name": "stderr",
     "output_type": "stream",
     "text": [
      "Downloading rows:  96%|█████████▋| 1420000/1472089 [1:31:55<01:56, 447.89rows/s]"
     ]
    },
    {
     "name": "stdout",
     "output_type": "stream",
     "text": [
      "Saved checkpoint at page 1420 (1,420,000 rows)\n"
     ]
    },
    {
     "name": "stderr",
     "output_type": "stream",
     "text": [
      "Downloading rows:  97%|█████████▋| 1430000/1472089 [1:32:55<01:29, 472.46rows/s]"
     ]
    },
    {
     "name": "stdout",
     "output_type": "stream",
     "text": [
      "Saved checkpoint at page 1430 (1,430,000 rows)\n"
     ]
    },
    {
     "name": "stderr",
     "output_type": "stream",
     "text": [
      "Downloading rows:  98%|█████████▊| 1440000/1472089 [1:33:45<01:05, 492.62rows/s]"
     ]
    },
    {
     "name": "stdout",
     "output_type": "stream",
     "text": [
      "Saved checkpoint at page 1440 (1,440,000 rows)\n"
     ]
    },
    {
     "name": "stderr",
     "output_type": "stream",
     "text": [
      "Downloading rows:  98%|█████████▊| 1450000/1472089 [1:34:45<00:46, 474.20rows/s]"
     ]
    },
    {
     "name": "stdout",
     "output_type": "stream",
     "text": [
      "Saved checkpoint at page 1450 (1,450,000 rows)\n"
     ]
    },
    {
     "name": "stderr",
     "output_type": "stream",
     "text": [
      "Downloading rows:  99%|█████████▉| 1460000/1472089 [1:35:35<00:27, 445.80rows/s]"
     ]
    },
    {
     "name": "stdout",
     "output_type": "stream",
     "text": [
      "Saved checkpoint at page 1460 (1,460,000 rows)\n"
     ]
    },
    {
     "name": "stderr",
     "output_type": "stream",
     "text": [
      "Downloading rows: 100%|█████████▉| 1470000/1472089 [1:36:35<00:04, 459.54rows/s]"
     ]
    },
    {
     "name": "stdout",
     "output_type": "stream",
     "text": [
      "Saved checkpoint at page 1470 (1,470,000 rows)\n"
     ]
    },
    {
     "name": "stderr",
     "output_type": "stream",
     "text": [
      "Downloading rows: 100%|██████████| 1472089/1472089 [1:37:09<00:00, 252.52rows/s]\n"
     ]
    },
    {
     "name": "stdout",
     "output_type": "stream",
     "text": [
      "\n",
      "✅ Download complete — 1,472,089 records saved.\n"
     ]
    }
   ],
   "source": [
    "import requests, json, time, os\n",
    "from tqdm import tqdm\n",
    "\n",
    "def fetch_all_data():\n",
    "    base_url = \"https://datacatalogapi.worldbank.org/dexapps/fone/api/apiservice\"\n",
    "    dataset_id = \"DS00975\"\n",
    "    resource_id = \"RS00905\"\n",
    "    top = 1000\n",
    "    page = 1\n",
    "    all_data = []\n",
    "\n",
    "    # 🔁 Resume if a partial file already exists\n",
    "    if os.path.exists(\"worldbank_partial.json\"):\n",
    "        with open(\"worldbank_partial.json\") as f:\n",
    "            all_data = json.load(f)\n",
    "        page = len(all_data)//top + 1\n",
    "        print(f\"Resuming from page {page} ({len(all_data):,} records already saved)\")\n",
    "\n",
    "    with tqdm(total=1472089, desc=\"Downloading rows\", unit=\"rows\") as pbar:\n",
    "        pbar.update(len(all_data))\n",
    "        while True:\n",
    "            url = f\"{base_url}?datasetId={dataset_id}&resourceId={resource_id}&top={top}&type=json&skip={1000*(page-1)}\"\n",
    "            try:\n",
    "                r = requests.get(url, timeout=20)\n",
    "                r.raise_for_status()\n",
    "                data = r.json()\n",
    "                if \"data\" not in data or not data[\"data\"]:\n",
    "                    break\n",
    "                all_data.extend(data[\"data\"])\n",
    "                pbar.update(len(data[\"data\"]))\n",
    "\n",
    "                if page % 10 == 0:\n",
    "                    with open(\"worldbank_partial.json\", \"w\") as f:\n",
    "                        json.dump(all_data, f)\n",
    "                    print(f\"Saved checkpoint at page {page} ({len(all_data):,} rows)\")\n",
    "                page += 1\n",
    "                time.sleep(0.2)\n",
    "            except requests.RequestException as e:\n",
    "                print(f\"Error on page {page}: {e}. Retrying in 10s.\")\n",
    "                time.sleep(10)\n",
    "                continue\n",
    "\n",
    "    # Final save\n",
    "    with open(\"worldbank_loans_full.json\", \"w\") as f:\n",
    "        json.dump(all_data, f)\n",
    "    print(f\"\\n✅ Download complete — {len(all_data):,} records saved.\")\n",
    "    return all_data\n",
    "\n",
    "if __name__ == \"__main__\":\n",
    "    all_data = fetch_all_data()\n"
   ]
  },
  {
   "cell_type": "code",
   "execution_count": 2,
   "id": "4a5a2e52",
   "metadata": {},
   "outputs": [],
   "source": [
    "import pandas as pd\n",
    "df = pd.read_json(\"worldbank_loans_full.json\")\n",
    "df.to_parquet(\"worldbank_loans.parquet\")\n"
   ]
  },
  {
   "cell_type": "code",
   "execution_count": 3,
   "id": "ecd4470b",
   "metadata": {},
   "outputs": [],
   "source": [
    "import pandas as pd\n",
    "df = pd.read_parquet(\"worldbank_loans.parquet\")\n"
   ]
  },
  {
   "cell_type": "code",
   "execution_count": 4,
   "id": "0d9097bd",
   "metadata": {},
   "outputs": [
    {
     "name": "stdout",
     "output_type": "stream",
     "text": [
      "<class 'pandas.core.frame.DataFrame'>\n",
      "RangeIndex: 1472089 entries, 0 to 1472088\n",
      "Data columns (total 33 columns):\n",
      " #   Column                      Non-Null Count    Dtype  \n",
      "---  ------                      --------------    -----  \n",
      " 0   agreement_signing_date      1450336 non-null  object \n",
      " 1   board_approval_date         1472087 non-null  object \n",
      " 2   borrower                    1462055 non-null  object \n",
      " 3   borrowers_obligation        1472089 non-null  float64\n",
      " 4   cancelled_amount            1472089 non-null  float64\n",
      " 5   closed_date_most_recent     1470711 non-null  object \n",
      " 6   country                     1472089 non-null  object \n",
      " 7   country_code                1471743 non-null  object \n",
      " 8   currency_of_commitment      65280 non-null    object \n",
      " 9   disbursed_amount            1472089 non-null  float64\n",
      " 10  due_3rd_party               1472089 non-null  int64  \n",
      " 11  due_to_ibrd                 1472089 non-null  float64\n",
      " 12  effective_date_most_recent  1460172 non-null  object \n",
      " 13  end_of_period               1472089 non-null  object \n",
      " 14  exchange_adjustment         1472089 non-null  float64\n",
      " 15  first_repayment_date        1467375 non-null  object \n",
      " 16  guarantor                   1392210 non-null  object \n",
      " 17  guarantor_country_code      1418532 non-null  object \n",
      " 18  interest_rate               1439700 non-null  float64\n",
      " 19  last_disbursement_date      874731 non-null   object \n",
      " 20  last_repayment_date         1467383 non-null  object \n",
      " 21  loan_number                 1472089 non-null  object \n",
      " 22  loan_status                 1472089 non-null  object \n",
      " 23  loan_type                   1472089 non-null  object \n",
      " 24  loans_held                  1472089 non-null  float64\n",
      " 25  original_principal_amount   1472089 non-null  float64\n",
      " 26  project_id                  1472047 non-null  object \n",
      " 27  project_name_               1312741 non-null  object \n",
      " 28  region                      1472089 non-null  object \n",
      " 29  repaid_3rd_party            1472089 non-null  float64\n",
      " 30  repaid_to_ibrd              1472089 non-null  float64\n",
      " 31  sold_3rd_party              1472089 non-null  float64\n",
      " 32  undisbursed_amount          1472089 non-null  float64\n",
      "dtypes: float64(12), int64(1), object(20)\n",
      "memory usage: 370.6+ MB\n"
     ]
    }
   ],
   "source": [
    "df.info()"
   ]
  },
  {
   "cell_type": "code",
   "execution_count": null,
   "id": "bd0d405c",
   "metadata": {},
   "outputs": [],
   "source": []
  }
 ],
 "metadata": {
  "kernelspec": {
   "display_name": "base",
   "language": "python",
   "name": "python3"
  },
  "language_info": {
   "codemirror_mode": {
    "name": "ipython",
    "version": 3
   },
   "file_extension": ".py",
   "mimetype": "text/x-python",
   "name": "python",
   "nbconvert_exporter": "python",
   "pygments_lexer": "ipython3",
   "version": "3.12.12"
  }
 },
 "nbformat": 4,
 "nbformat_minor": 5
}
