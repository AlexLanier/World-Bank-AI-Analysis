{
 "cells": [
  {
   "cell_type": "markdown",
   "id": "19a5782f",
   "metadata": {},
   "source": [
    "# Link to World Bank Dataset Overview\n",
    "https://financesone.worldbank.org/api-explorer?id=DS00975"
   ]
  },
  {
   "cell_type": "markdown",
   "id": "d4a502c8",
   "metadata": {},
   "source": [
    "# 📘 Loan Cancellation and Disbursement Behavior Prediction\n",
    "\n",
    "## Problem Statement\n",
    "The goal of this project is to predict loan cancellation and disbursement outcomes as indicators of a country’s ability to repay its loans.\n",
    "\n",
    "## Topic\n",
    "**Loan Cancellation and Disbursement Behavior Prediction**\n",
    "\n",
    "---\n",
    "\n",
    "## Phase 1: Data Acquisition & Preparation\n",
    "- [x] Create public repositroy through GitHub  \n",
    "- [x] Connect Open Source World Bank dataset to Jupyter Notebook via World Bank API\n",
    "- [x] Implement partial downloading of data to save progress and prevent system throttling \n",
    "- [ ] Clean dataset and remove irrelevant columns  \n",
    "- [ ] Impute missing values using a pretrained model  \n",
    "- [ ] Mask sensitive data using models\n",
    "- [x] Feature Engineering    \n",
    "\n",
    "---\n",
    "\n",
    "## Phase 2: Model Implementation\n",
    "- [ ] Implement machine learning models to predict loan disbursement and cancellation behavior \n",
    "- [ ] Implement hugging face tabular transformer based model\n",
    "- [ ] Evaluate performance using appropriate metrics (accuracy, F1-score, ROC-AUC)  \n",
    "- [ ] Compare baseline models vs. advanced models (e.g., Hugging Face TabTransformer)  \n",
    "\n",
    "---\n",
    "\n",
    "## Phase 3: Model Deployment\n",
    "- [ ] Deploy the trained model using **Hugging Face Spaces** or **Azure Machine Learning**  \n",
    "- [ ] Create a simple web-based interface for predictions and visual insights  \n",
    "\n",
    "---\n",
    "\n",
    "## Phase 4: Dataset Expansion\n",
    "- [ ] Merge an additional dataset (e.g., GDP data)  \n",
    "- [ ] Join using the **World Bank Country Code**  \n",
    "- [ ] Analyze the impact of macroeconomic indicators on loan outcomes  \n",
    "\n",
    "---\n",
    "\n",
    "## 📈 Additional Topics to Explore\n",
    "- **Loan Default Risk Prediction**  \n",
    "- **Loan Repayment Time Forecasting**  \n",
    "- **Regional Loan Portfolio Performance Analysis**\n",
    "- **CI/CD With Versioning**\n",
    "- **Containerzation**\n",
    "---\n",
    "\n",
    "## Objective Summary\n",
    "This project aims to build an interpretable AI model capable of predicting loan cancellation and disbursement behavior using historical World Bank data, regional attributes, and macroeconomic indicators. The findings will help assess each country’s ability to fulfill its loan obligations and guide data-driven lending decisions.\n"
   ]
  },
  {
   "cell_type": "code",
   "execution_count": null,
   "id": "de122192",
   "metadata": {},
   "outputs": [],
   "source": [
    "import requests, json, time, os\n",
    "from tqdm import tqdm\n",
    "\n",
    "def fetch_all_data():\n",
    "    base_url = \"https://datacatalogapi.worldbank.org/dexapps/fone/api/apiservice\"\n",
    "    dataset_id = \"DS00975\"\n",
    "    resource_id = \"RS00905\"\n",
    "    top = 1000\n",
    "    page = 1\n",
    "    all_data = []\n",
    "\n",
    "    # 🔁 Resume if a partial file already exists\n",
    "    if os.path.exists(\"worldbank_partial.json\"):\n",
    "        with open(\"worldbank_partial.json\") as f:\n",
    "            all_data = json.load(f)\n",
    "        page = len(all_data)//top + 1\n",
    "        print(f\"Resuming from page {page} ({len(all_data):,} records already saved)\")\n",
    "\n",
    "    with tqdm(total=1472089, desc=\"Downloading rows\", unit=\"rows\") as pbar:\n",
    "        pbar.update(len(all_data))\n",
    "        while True:\n",
    "            url = f\"{base_url}?datasetId={dataset_id}&resourceId={resource_id}&top={top}&type=json&skip={1000*(page-1)}\"\n",
    "            try:\n",
    "                r = requests.get(url, timeout=20)\n",
    "                r.raise_for_status()\n",
    "                data = r.json()\n",
    "                if \"data\" not in data or not data[\"data\"]:\n",
    "                    break\n",
    "                all_data.extend(data[\"data\"])\n",
    "                pbar.update(len(data[\"data\"]))\n",
    "\n",
    "                if page % 10 == 0:\n",
    "                    with open(\"worldbank_partial.json\", \"w\") as f:\n",
    "                        json.dump(all_data, f)\n",
    "                    print(f\"Saved checkpoint at page {page} ({len(all_data):,} rows)\")\n",
    "                page += 1\n",
    "                time.sleep(0.2)\n",
    "            except requests.RequestException as e:\n",
    "                print(f\"Error on page {page}: {e}. Retrying in 10s.\")\n",
    "                time.sleep(10)\n",
    "                continue\n",
    "\n",
    "    # Final save\n",
    "    with open(\"worldbank_loans_full.json\", \"w\") as f:\n",
    "        json.dump(all_data, f)\n",
    "    print(f\"\\n✅ Download complete — {len(all_data):,} records saved.\")\n",
    "    return all_data\n",
    "\n",
    "if __name__ == \"__main__\":\n",
    "    all_data = fetch_all_data()\n"
   ]
  },
  {
   "cell_type": "code",
   "execution_count": null,
   "id": "4a5a2e52",
   "metadata": {},
   "outputs": [],
   "source": [
    "import pandas as pd\n",
    "df = pd.read_json(\"worldbank_loans_full.json\")\n",
    "df.to_parquet(\"worldbank_loans.parquet\")\n"
   ]
  },
  {
   "cell_type": "code",
   "execution_count": null,
   "id": "ecd4470b",
   "metadata": {},
   "outputs": [],
   "source": [
    "import pandas as pd\n",
    "df = pd.read_parquet(\"worldbank_loans.parquet\")\n"
   ]
  },
  {
   "cell_type": "code",
   "execution_count": null,
   "id": "0d9097bd",
   "metadata": {},
   "outputs": [],
   "source": [
    "df.info()"
   ]
  },
  {
   "cell_type": "code",
   "execution_count": null,
   "id": "bd0d405c",
   "metadata": {},
   "outputs": [],
   "source": [
    "df.head(5)"
   ]
  },
  {
   "cell_type": "code",
   "execution_count": null,
   "id": "db4f2693",
   "metadata": {},
   "outputs": [],
   "source": [
    "df.describe(include=\"all\")"
   ]
  },
  {
   "cell_type": "code",
   "execution_count": null,
   "id": "998fc10b",
   "metadata": {},
   "outputs": [],
   "source": [
    "df.drop_duplicates(subset=[\"loan_number\"]).groupby(\"country\")[\"original_principal_amount\"].mean().sort_values(ascending=False).head(20)\n"
   ]
  },
  {
   "cell_type": "code",
   "execution_count": null,
   "id": "eb05f072",
   "metadata": {},
   "outputs": [],
   "source": [
    "df[\"loan_number\"].describe()"
   ]
  },
  {
   "cell_type": "code",
   "execution_count": null,
   "id": "7995dcb1",
   "metadata": {},
   "outputs": [],
   "source": [
    "df_clean = df[[\n",
    "    \"loan_number\", \"country\", \"region\",\n",
    "    \"original_principal_amount\", \"disbursed_amount\", \"cancelled_amount\",\n",
    "    \"interest_rate\", \"loan_status\", \"loan_type\",\n",
    "    \"board_approval_date\", \"end_of_period\",\n",
    "    \"borrowers_obligation\", \"due_to_ibrd\", \"undisbursed_amount\",\n",
    "    \"project_name_\"\n",
    "]].copy()\n"
   ]
  },
  {
   "cell_type": "code",
   "execution_count": null,
   "id": "b878bbf9",
   "metadata": {},
   "outputs": [],
   "source": [
    "df_clean.head(5)"
   ]
  },
  {
   "cell_type": "code",
   "execution_count": null,
   "id": "3af87417",
   "metadata": {},
   "outputs": [],
   "source": [
    "df_clean[\"disbursement_ratio\"] = df_clean[\"disbursed_amount\"] / df_clean[\"original_principal_amount\"]\n",
    "df_clean[\"cancellation_ratio\"] = df_clean[\"cancelled_amount\"] / df_clean[\"original_principal_amount\"]\n",
    "\n",
    "df_clean.describe(include='all')"
   ]
  },
  {
   "cell_type": "code",
   "execution_count": null,
   "id": "4286d638",
   "metadata": {},
   "outputs": [],
   "source": []
  }
 ],
 "metadata": {
  "kernelspec": {
   "display_name": "base",
   "language": "python",
   "name": "python3"
  },
  "language_info": {
   "codemirror_mode": {
    "name": "ipython",
    "version": 3
   },
   "file_extension": ".py",
   "mimetype": "text/x-python",
   "name": "python",
   "nbconvert_exporter": "python",
   "pygments_lexer": "ipython3",
   "version": "3.12.12"
  }
 },
 "nbformat": 4,
 "nbformat_minor": 5
}
